{
 "cells": [
  {
   "cell_type": "markdown",
   "id": "6c0bad01",
   "metadata": {},
   "source": [
    "# Classification with different Machine learning algorithms (Traditional)"
   ]
  },
  {
   "cell_type": "markdown",
   "id": "9129e0bc",
   "metadata": {},
   "source": [
    "# importing libraries"
   ]
  },
  {
   "cell_type": "code",
   "execution_count": 1,
   "id": "2f9d3283",
   "metadata": {},
   "outputs": [],
   "source": [
    "import os\n",
    "import numpy as np\n",
    "import cv2\n",
    "import matplotlib.pyplot as plt\n",
    "import pickle\n",
    "import random\n",
    "from sklearn.model_selection import train_test_split\n",
    "from sklearn.svm import SVC\n",
    "from sklearn.metrics import accuracy_score\n",
    "import seaborn as sns\n"
   ]
  },
  {
   "cell_type": "markdown",
   "id": "ecc29d96",
   "metadata": {},
   "source": [
    "# importing data from pickle"
   ]
  },
  {
   "cell_type": "code",
   "execution_count": 2,
   "id": "e39ebbbd",
   "metadata": {},
   "outputs": [],
   "source": [
    "pickle_in = open(\"data1.pickle\",\"rb\")\n",
    "data=pickle.load(pickle_in)\n",
    "pickle_in.close()"
   ]
  },
  {
   "cell_type": "markdown",
   "id": "a290289f",
   "metadata": {},
   "source": [
    "# Feature and label"
   ]
  },
  {
   "cell_type": "code",
   "execution_count": 3,
   "id": "d922a073",
   "metadata": {},
   "outputs": [],
   "source": [
    "#featureset labvel;\n",
    "\n",
    "random.shuffle(data)\n",
    "features =[]\n",
    "labels = []\n",
    "\n",
    "for feature, label in data:\n",
    "    features.append(feature)\n",
    "    labels.append(label)"
   ]
  },
  {
   "cell_type": "markdown",
   "id": "0d4e3236",
   "metadata": {},
   "source": [
    "# Train and test data split "
   ]
  },
  {
   "cell_type": "code",
   "execution_count": 4,
   "id": "4e8ec9e8",
   "metadata": {},
   "outputs": [],
   "source": [
    "#train test\n",
    "\n",
    "xtrain, xtest, ytrain, ytest = train_test_split(features, labels, test_size =0.25)"
   ]
  },
  {
   "cell_type": "markdown",
   "id": "bae26fac",
   "metadata": {},
   "source": [
    "# Machine learning Algorithms"
   ]
  },
  {
   "cell_type": "markdown",
   "id": "fe512def",
   "metadata": {},
   "source": [
    "## Random Forest Classifier"
   ]
  },
  {
   "cell_type": "code",
   "execution_count": 5,
   "id": "68151453",
   "metadata": {},
   "outputs": [
    {
     "data": {
      "text/plain": [
       "RandomForestClassifier(n_estimators=40)"
      ]
     },
     "execution_count": 5,
     "metadata": {},
     "output_type": "execute_result"
    }
   ],
   "source": [
    "from sklearn.ensemble import RandomForestClassifier\n",
    "classifier = RandomForestClassifier(n_estimators = 40)\n",
    "classifier.fit(xtrain, ytrain)\n"
   ]
  },
  {
   "cell_type": "code",
   "execution_count": 6,
   "id": "d6ed5599",
   "metadata": {},
   "outputs": [
    {
     "name": "stdout",
     "output_type": "stream",
     "text": [
      "              precision    recall  f1-score   support\n",
      "\n",
      "           0       0.50      0.75      0.60         4\n",
      "           1       0.50      0.25      0.33         4\n",
      "\n",
      "    accuracy                           0.50         8\n",
      "   macro avg       0.50      0.50      0.47         8\n",
      "weighted avg       0.50      0.50      0.47         8\n",
      "\n"
     ]
    }
   ],
   "source": [
    "from sklearn.metrics import classification_report\n",
    "predictions = classifier.predict(xtest)\n",
    "print (classification_report(ytest, predictions))"
   ]
  },
  {
   "cell_type": "markdown",
   "id": "11c249a7",
   "metadata": {},
   "source": [
    "## K-Neighbors "
   ]
  },
  {
   "cell_type": "code",
   "execution_count": 7,
   "id": "0b65d285",
   "metadata": {},
   "outputs": [
    {
     "data": {
      "image/png": "[encoded data removed]",
      "text/plain": [
       "<Figure size 432x288 with 1 Axes>"
      ]
     },
     "metadata": {
      "needs_background": "light"
     },
     "output_type": "display_data"
    }
   ],
   "source": [
    "from sklearn.neighbors import KNeighborsClassifier\n",
    "\n",
    "training_accuracy = []\n",
    "test_accuracy = []\n",
    "# try n_neighbors from 1 to 10\n",
    "neighbors_settings = range(1, 11)\n",
    "\n",
    "for n_neighbors in neighbors_settings:\n",
    "    # build the model\n",
    "    knn = KNeighborsClassifier(n_neighbors=n_neighbors)\n",
    "    knn.fit(xtrain, ytrain)\n",
    "    # record training set accuracy\n",
    "    training_accuracy.append(knn.score(xtrain, ytrain))\n",
    "    # record test set accuracy\n",
    "    test_accuracy.append(knn.score(xtest, ytest))\n",
    "\n",
    "plt.plot(neighbors_settings, training_accuracy, label=\"training accuracy\")\n",
    "plt.plot(neighbors_settings, test_accuracy, label=\"test accuracy\")\n",
    "plt.ylabel(\"Accuracy\")\n",
    "plt.xlabel(\"n_neighbors\")\n",
    "plt.legend()\n",
    "plt.savefig('knn_compare_model')"
   ]
  },
  {
   "cell_type": "code",
   "execution_count": 8,
   "id": "f3b921a5",
   "metadata": {},
   "outputs": [
    {
     "name": "stdout",
     "output_type": "stream",
     "text": [
      "Accuracy of K-NN classifier on training set: 0.70\n",
      "Accuracy of K-NN classifier on test set: 0.38\n"
     ]
    }
   ],
   "source": [
    "knn = KNeighborsClassifier(n_neighbors=7)\n",
    "knn.fit(xtrain, ytrain)\n",
    "\n",
    "print('Accuracy of K-NN classifier on training set: {:.2f}'.format(knn.score(xtrain, ytrain)))\n",
    "print('Accuracy of K-NN classifier on test set: {:.2f}'.format(knn.score(xtest, ytest)))"
   ]
  },
  {
   "cell_type": "markdown",
   "id": "6fbf572d",
   "metadata": {},
   "source": [
    "# Decision Tree"
   ]
  },
  {
   "cell_type": "code",
   "execution_count": 9,
   "id": "c3c3abde",
   "metadata": {},
   "outputs": [
    {
     "name": "stdout",
     "output_type": "stream",
     "text": [
      "Accuracy on training set: 1.000\n",
      "Accuracy on test set: 0.750\n"
     ]
    }
   ],
   "source": [
    "from sklearn.tree import DecisionTreeClassifier\n",
    "\n",
    "tree = DecisionTreeClassifier(random_state=0)\n",
    "tree.fit(xtrain, ytrain)\n",
    "print(\"Accuracy on training set: {:.3f}\".format(tree.score(xtrain, ytrain)))\n",
    "print(\"Accuracy on test set: {:.3f}\".format(tree.score(xtest, ytest)))"
   ]
  },
  {
   "cell_type": "code",
   "execution_count": 10,
   "id": "ee14f09d",
   "metadata": {},
   "outputs": [
    {
     "name": "stdout",
     "output_type": "stream",
     "text": [
      "Accuracy on training set: 1.000\n",
      "Accuracy on test set: 0.625\n"
     ]
    }
   ],
   "source": [
    "tree = DecisionTreeClassifier(max_depth=4, random_state=1)\n",
    "tree.fit(xtrain, ytrain)\n",
    "\n",
    "print(\"Accuracy on training set: {:.3f}\".format(tree.score(xtrain, ytrain)))\n",
    "print(\"Accuracy on test set: {:.3f}\".format(tree.score(xtest, ytest)))\n"
   ]
  },
  {
   "cell_type": "markdown",
   "id": "17e69de7",
   "metadata": {},
   "source": [
    "# RandomForest Classifier"
   ]
  },
  {
   "cell_type": "code",
   "execution_count": 11,
   "id": "07f08400",
   "metadata": {},
   "outputs": [
    {
     "name": "stdout",
     "output_type": "stream",
     "text": [
      "Accuracy on training set: 1.000\n",
      "Accuracy on test set: 0.625\n"
     ]
    }
   ],
   "source": [
    "from sklearn.ensemble import RandomForestClassifier\n",
    "\n",
    "rf = RandomForestClassifier(n_estimators=100, random_state=0)\n",
    "rf.fit(xtrain, ytrain)\n",
    "print(\"Accuracy on training set: {:.3f}\".format(rf.score(xtrain, ytrain)))\n",
    "print(\"Accuracy on test set: {:.3f}\".format(rf.score(xtest, ytest)))"
   ]
  },
  {
   "cell_type": "code",
   "execution_count": 12,
   "id": "5c06167d",
   "metadata": {},
   "outputs": [
    {
     "name": "stdout",
     "output_type": "stream",
     "text": [
      "Accuracy on training set: 1.000\n",
      "Accuracy on test set: 0.625\n"
     ]
    }
   ],
   "source": [
    "rf1 = RandomForestClassifier(max_depth=9, n_estimators=100, random_state=1)\n",
    "rf1.fit(xtrain, ytrain)\n",
    "print(\"Accuracy on training set: {:.3f}\".format(rf1.score(xtrain, ytrain)))\n",
    "print(\"Accuracy on test set: {:.3f}\".format(rf1.score(xtest, ytest)))"
   ]
  },
  {
   "cell_type": "markdown",
   "id": "d55ca769",
   "metadata": {},
   "source": [
    "# Gradient Boost"
   ]
  },
  {
   "cell_type": "code",
   "execution_count": 13,
   "id": "dbc58d52",
   "metadata": {},
   "outputs": [
    {
     "name": "stdout",
     "output_type": "stream",
     "text": [
      "Accuracy on training set: 1.000\n",
      "Accuracy on test set: 0.750\n"
     ]
    }
   ],
   "source": [
    "from sklearn.ensemble import GradientBoostingClassifier\n",
    "\n",
    "gb = GradientBoostingClassifier(random_state=0)\n",
    "gb.fit(xtrain, ytrain)\n",
    "\n",
    "print(\"Accuracy on training set: {:.3f}\".format(gb.score(xtrain, ytrain)))\n",
    "print(\"Accuracy on test set: {:.3f}\".format(gb.score(xtest, ytest)))"
   ]
  },
  {
   "cell_type": "code",
   "execution_count": 14,
   "id": "56df6701",
   "metadata": {},
   "outputs": [
    {
     "name": "stdout",
     "output_type": "stream",
     "text": [
      "Accuracy on training set: 1.000\n",
      "Accuracy on test set: 0.750\n"
     ]
    }
   ],
   "source": [
    "gb1 = GradientBoostingClassifier(random_state=0, max_depth=2)\n",
    "gb1.fit(xtrain, ytrain)\n",
    "\n",
    "print(\"Accuracy on training set: {:.3f}\".format(gb1.score(xtrain, ytrain)))\n",
    "print(\"Accuracy on test set: {:.3f}\".format(gb1.score(xtest, ytest)))\n"
   ]
  },
  {
   "cell_type": "markdown",
   "id": "9dd1382b",
   "metadata": {},
   "source": [
    "# Support Vector Machine"
   ]
  },
  {
   "cell_type": "code",
   "execution_count": 15,
   "id": "6456d604",
   "metadata": {},
   "outputs": [
    {
     "name": "stdout",
     "output_type": "stream",
     "text": [
      "Accuracy on training set: 0.87\n",
      "Accuracy on test set: 0.75\n"
     ]
    }
   ],
   "source": [
    "from sklearn.svm import SVC\n",
    "\n",
    "svc = SVC()\n",
    "svc.fit(xtrain, ytrain)\n",
    "\n",
    "print(\"Accuracy on training set: {:.2f}\".format(svc.score(xtrain, ytrain)))\n",
    "print(\"Accuracy on test set: {:.2f}\".format(svc.score(xtest, ytest)))"
   ]
  },
  {
   "cell_type": "markdown",
   "id": "460268dd",
   "metadata": {},
   "source": [
    "# Gaussian Naive Bayes"
   ]
  },
  {
   "cell_type": "code",
   "execution_count": 16,
   "id": "eef6a7c0",
   "metadata": {},
   "outputs": [
    {
     "name": "stdout",
     "output_type": "stream",
     "text": [
      "[1 0 0 0 0 1 0 1]\n"
     ]
    }
   ],
   "source": [
    "from sklearn.naive_bayes import GaussianNB\n",
    "model=GaussianNB()\n",
    "model.fit(xtrain, ytrain)\n",
    "\n",
    "y_pred_nb = model.predict(xtest)\n",
    "print(y_pred_nb)"
   ]
  },
  {
   "cell_type": "code",
   "execution_count": 17,
   "id": "9580248f",
   "metadata": {},
   "outputs": [
    {
     "name": "stdout",
     "output_type": "stream",
     "text": [
      "The accuracy score using Naive Bayes is: 62.5 %\n"
     ]
    }
   ],
   "source": [
    "score_nb = round(accuracy_score(y_pred_nb,ytest)*100,2)\n",
    "\n",
    "print(\"The accuracy score using Naive Bayes is: \"+str(score_nb)+\" %\")\n"
   ]
  },
  {
   "cell_type": "code",
   "execution_count": 18,
   "id": "e69b6469",
   "metadata": {},
   "outputs": [
    {
     "data": {
      "text/plain": [
       "<AxesSubplot:>"
      ]
     },
     "execution_count": 18,
     "metadata": {},
     "output_type": "execute_result"
    },
    {
     "data": {
      "image/png": "[encoded data removed]",
      "text/plain": [
       "<Figure size 432x288 with 2 Axes>"
      ]
     },
     "metadata": {
      "needs_background": "light"
     },
     "output_type": "display_data"
    }
   ],
   "source": [
    "from sklearn.metrics import confusion_matrix\n",
    "matrix= confusion_matrix(ytest, y_pred_nb)\n",
    "\n",
    "sns.heatmap(matrix,annot = True, fmt = \"d\")"
   ]
  },
  {
   "cell_type": "markdown",
   "id": "1ac6fd7d",
   "metadata": {},
   "source": [
    "# Neural Networks"
   ]
  },
  {
   "cell_type": "code",
   "execution_count": 19,
   "id": "f00e6570",
   "metadata": {},
   "outputs": [
    {
     "name": "stdout",
     "output_type": "stream",
     "text": [
      "Accuracy on training set: 0.52\n",
      "Accuracy on test set: 0.50\n"
     ]
    }
   ],
   "source": [
    "from sklearn.neural_network import MLPClassifier\n",
    "\n",
    "mlp = MLPClassifier(random_state=42)\n",
    "mlp.fit(xtrain, ytrain)\n",
    "\n",
    "print(\"Accuracy on training set: {:.2f}\".format(mlp.score(xtrain, ytrain)))\n",
    "print(\"Accuracy on test set: {:.2f}\".format(mlp.score(xtest, ytest)))"
   ]
  },
  {
   "cell_type": "code",
   "execution_count": 20,
   "id": "429acbf2",
   "metadata": {},
   "outputs": [
    {
     "name": "stdout",
     "output_type": "stream",
     "text": [
      "Accuracy on training set: 1.000\n",
      "Accuracy on test set: 0.500\n"
     ]
    }
   ],
   "source": [
    "from sklearn.preprocessing import StandardScaler\n",
    "\n",
    "scaler = StandardScaler()\n",
    "X_train_scaled = scaler.fit_transform(xtrain)\n",
    "X_test_scaled = scaler.fit_transform(xtest)\n",
    "\n",
    "mlp = MLPClassifier(random_state=0)\n",
    "mlp.fit(X_train_scaled, ytrain)\n",
    "\n",
    "print(\"Accuracy on training set: {:.3f}\".format(\n",
    "    mlp.score(X_train_scaled, ytrain)))\n",
    "print(\"Accuracy on test set: {:.3f}\".format(mlp.score(X_test_scaled, ytest)))"
   ]
  },
  {
   "cell_type": "code",
   "execution_count": 21,
   "id": "b9c80900",
   "metadata": {},
   "outputs": [
    {
     "name": "stdout",
     "output_type": "stream",
     "text": [
      "Accuracy on training set: 1.000\n",
      "Accuracy on test set: 0.625\n"
     ]
    }
   ],
   "source": [
    "mlp = MLPClassifier(max_iter=1000, alpha=1, random_state=0)\n",
    "mlp.fit(X_train_scaled, ytrain)\n",
    "\n",
    "print(\"Accuracy on training set: {:.3f}\".format(\n",
    "    mlp.score(X_train_scaled, ytrain)))\n",
    "print(\"Accuracy on test set: {:.3f}\".format(mlp.score(X_test_scaled, ytest)))"
   ]
  },
  {
   "cell_type": "code",
   "execution_count": null,
   "id": "442ea676",
   "metadata": {},
   "outputs": [],
   "source": []
  },
  {
   "cell_type": "code",
   "execution_count": null,
   "id": "164f5fd6",
   "metadata": {},
   "outputs": [],
   "source": []
  }
 ],
 "metadata": {
  "kernelspec": {
   "display_name": "Python 3 (ipykernel)",
   "language": "python",
   "name": "python3"
  },
  "language_info": {
   "codemirror_mode": {
    "name": "ipython",
    "version": 3
   },
   "file_extension": ".py",
   "mimetype": "text/x-python",
   "name": "python",
   "nbconvert_exporter": "python",
   "pygments_lexer": "ipython3",
   "version": "3.11.8"
  }
 },
 "nbformat": 4,
 "nbformat_minor": 5
}
